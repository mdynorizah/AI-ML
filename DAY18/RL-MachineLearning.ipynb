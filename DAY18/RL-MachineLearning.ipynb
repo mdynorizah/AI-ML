{
 "cells": [
  {
   "cell_type": "code",
   "execution_count": 57,
   "id": "046b6d06-e798-44c5-9419-faf381e6740b",
   "metadata": {},
   "outputs": [],
   "source": [
    "import numpy as np\n",
    "import random"
   ]
  },
  {
   "cell_type": "code",
   "execution_count": 58,
   "id": "41adf94b-1674-41d6-ac97-cdd755f9c59b",
   "metadata": {},
   "outputs": [],
   "source": [
    "# STESP1: find out Ssteps and Actions\n",
    "states=np.arange(16,31)\n",
    "action=['ON','OFF']"
   ]
  },
  {
   "cell_type": "code",
   "execution_count": 59,
   "id": "8d308713-341f-4c6b-bc08-5608da469ca6",
   "metadata": {},
   "outputs": [
    {
     "name": "stdout",
     "output_type": "stream",
     "text": [
      "[16 17 18 19 20 21 22 23 24 25 26 27 28 29 30]\n",
      "['ON', 'OFF']\n"
     ]
    }
   ],
   "source": [
    "print(states)\n",
    "print(actions)"
   ]
  },
  {
   "cell_type": "code",
   "execution_count": 60,
   "id": "771c7bc9-6572-4858-8c75-751a8e7e44a0",
   "metadata": {},
   "outputs": [],
   "source": [
    "# STEP2 Creaate Qtable set alpha, gamma, epsilor, episodes\n",
    "# Q table is [s,a] state, action\n",
    "Q=np.zeros((len(states),len(actions)))"
   ]
  },
  {
   "cell_type": "code",
   "execution_count": 61,
   "id": "eb11248c-1ebf-4f27-b597-91578166adbe",
   "metadata": {},
   "outputs": [],
   "source": [
    "# alpha: (0-1)\n",
    "# gama: 1\n",
    "# epsilon: probability\n",
    "# episodes: independent training runs()\n",
    "\n",
    "alpha=0.1\n",
    "gamma=0.9\n",
    "epsilon=0.2\n",
    "episodes=300"
   ]
  },
  {
   "cell_type": "code",
   "execution_count": 62,
   "id": "23c0f1ad-956e-4467-a284-b5a72e5bdb2c",
   "metadata": {},
   "outputs": [],
   "source": [
    "# STEP3  Write Reward functon\n",
    "def get_reward(temp,action):\n",
    "    if 20 <= temp <= 24:\n",
    "        reward = 10 # comfortable\n",
    "    else:\n",
    "        reward = -5 # uncomfortable\n",
    "    if action == 'ON':\n",
    "        reward -= 2 # cost of energy\n",
    "    return reward"
   ]
  },
  {
   "cell_type": "code",
   "execution_count": 63,
   "id": "6b35da8c-e9e9-4246-81f5-695975b7856f",
   "metadata": {},
   "outputs": [],
   "source": [
    "# STEP4 Enviroment Dynamic Change (e.g. Temperature Changes)\n",
    "def next_temp(temp, acton):\n",
    "    if action=='ON':\n",
    "        temp-=random.choice([1,2])\n",
    "    else:\n",
    "        temp+=random.choice([0,1,2])\n",
    "    return int(np.clip(temp,16,30))"
   ]
  },
  {
   "cell_type": "code",
   "execution_count": 66,
   "id": "ad2e8e87-a1d4-47dd-9afc-e49b0a39315f",
   "metadata": {},
   "outputs": [
    {
     "name": "stdout",
     "output_type": "stream",
     "text": [
      "Training Done\n"
     ]
    }
   ],
   "source": [
    "# STEP5 Training Loop\n",
    "for ep in range(episodes):\n",
    "    temp = random.choice(states)\n",
    "    done=False\n",
    "    for _ in range(20): # limit steps per episode\n",
    "        # Choose action(epsilon-greedy)\n",
    "        if random.uniform(0,1) < epsilon:\n",
    "            action = random.choice(actions)\n",
    "        else:\n",
    "            action = actions[np.argmax(Q[temp - 16])]\n",
    "\n",
    "        next_state = next_temp(temp, action)\n",
    "        reward = get_reward(next_state, action)\n",
    "        a = actions.index(action)\n",
    "        best_next = np.max(Q[next_state -16])\n",
    "        Q[temp - 16, a] += alpha * (reward + gamma * best_next - Q[temp - 16, a])\n",
    "\n",
    "        temp = next_state\n",
    "        \n",
    "print('Training Done')"
   ]
  },
  {
   "cell_type": "code",
   "execution_count": 67,
   "id": "90698ff3-aea1-4458-9e1f-26139497a2ad",
   "metadata": {},
   "outputs": [
    {
     "name": "stdout",
     "output_type": "stream",
     "text": [
      "Step 1: Temp=28C -> Action=ON\n",
      "Step 2: Temp=27C -> Action=ON\n",
      "Step 3: Temp=25C -> Action=ON\n",
      "Step 4: Temp=24C -> Action=ON\n",
      "Step 5: Temp=23C -> Action=ON\n",
      "Step 6: Temp=21C -> Action=OFF\n",
      "Step 7: Temp=23C -> Action=ON\n",
      "Step 8: Temp=22C -> Action=OFF\n",
      "Step 9: Temp=24C -> Action=ON\n",
      "Step 10: Temp=23C -> Action=ON\n"
     ]
    }
   ],
   "source": [
    "temp = 28\n",
    "for step in range(10):\n",
    "    action = actions[np.argmax(Q[temp - 16])]\n",
    "    print(f\"Step {step+1}: Temp={temp}C -> Action={action}\")\n",
    "    temp = next_temp(temp, action)"
   ]
  },
  {
   "cell_type": "code",
   "execution_count": 76,
   "id": "94fcd38a-a4df-4204-9d10-04efe93802f8",
   "metadata": {},
   "outputs": [
    {
     "name": "stdin",
     "output_type": "stream",
     "text": [
      "Enter Starting Room Temp (16-30) 22\n"
     ]
    },
    {
     "name": "stdout",
     "output_type": "stream",
     "text": [
      "\n",
      " Starting tempL 22 C\n",
      "Step 1: Temp=22 C -> Action=OFF\n",
      "Step 2: Temp=23 C -> Action=ON\n",
      "Step 3: Temp=22 C -> Action=OFF\n",
      "Step 4: Temp=24 C -> Action=ON\n",
      "Step 5: Temp=22 C -> Action=OFF\n",
      "Step 6: Temp=24 C -> Action=ON\n",
      "Step 7: Temp=23 C -> Action=ON\n",
      "Step 8: Temp=22 C -> Action=OFF\n",
      "Step 9: Temp=23 C -> Action=ON\n",
      "Step 10: Temp=21 C -> Action=OFF\n",
      "\n",
      " Done\n"
     ]
    }
   ],
   "source": [
    "try:\n",
    "    temp = int (input('Enter Starting Room Temp (16-30)'))\n",
    "    if temp< 16 or temp >30:\n",
    "            raise ValueError('Temp out of range')\n",
    "except ValueError as ve:\n",
    "    print(ve)\n",
    "    tempt=25\n",
    "    print('Set to Default 25C')\n",
    "print(f'\\n Starting tempL {temp} C')\n",
    "for step in range(10):\n",
    "    action = actions[np.argmax(Q[temp - 16])]\n",
    "    print (f\"Step {step+1}: Temp={temp} C -> Action={action}\")\n",
    "    temp = next_temp(temp, action)\n",
    "print('\\n Done')"
   ]
  },
  {
   "cell_type": "code",
   "execution_count": null,
   "id": "e14a655f-99e3-404d-86d3-8e254f8ed12b",
   "metadata": {},
   "outputs": [],
   "source": []
  }
 ],
 "metadata": {
  "kernelspec": {
   "display_name": "Python 3 (ipykernel)",
   "language": "python",
   "name": "python3"
  },
  "language_info": {
   "codemirror_mode": {
    "name": "ipython",
    "version": 3
   },
   "file_extension": ".py",
   "mimetype": "text/x-python",
   "name": "python",
   "nbconvert_exporter": "python",
   "pygments_lexer": "ipython3",
   "version": "3.13.5"
  }
 },
 "nbformat": 4,
 "nbformat_minor": 5
}
