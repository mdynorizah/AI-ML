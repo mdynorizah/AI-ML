{
 "cells": [
  {
   "cell_type": "code",
   "execution_count": 2,
   "id": "002f09b3-60f1-4cda-803b-a9c22ae8d899",
   "metadata": {},
   "outputs": [],
   "source": [
    "import pandas as pd\n",
    "import numpy as np"
   ]
  },
  {
   "cell_type": "code",
   "execution_count": 3,
   "id": "1199ee18-3112-4303-98f6-0c01d1aff40d",
   "metadata": {},
   "outputs": [
    {
     "name": "stdout",
     "output_type": "stream",
     "text": [
      "    Name  Age  Marks\n",
      "0   John   20     85\n",
      "1  Alice   22     90\n",
      "2    Bob   21     78\n",
      "3   Sara   23     92\n"
     ]
    }
   ],
   "source": [
    "df=pd.read_excel('students.xlsx')\n",
    "print(df)"
   ]
  },
  {
   "cell_type": "code",
   "execution_count": 4,
   "id": "5007833b-0528-439c-8477-8d2fa2b9cbd0",
   "metadata": {},
   "outputs": [
    {
     "name": "stdout",
     "output_type": "stream",
     "text": [
      "Numpy Array of Marks\n",
      "[85 90 78 92]\n"
     ]
    }
   ],
   "source": [
    "marks=df['Marks'].to_numpy()\n",
    "print('Numpy Array of Marks')\n",
    "print(marks)"
   ]
  },
  {
   "cell_type": "code",
   "execution_count": 5,
   "id": "ea3baf34-a3ff-44e3-83c8-06f741702beb",
   "metadata": {},
   "outputs": [
    {
     "name": "stdout",
     "output_type": "stream",
     "text": [
      "Highest Marks  92\n"
     ]
    }
   ],
   "source": [
    "print('Highest Marks ',np.max(marks))"
   ]
  },
  {
   "cell_type": "code",
   "execution_count": 6,
   "id": "ce6738d0-329f-44b9-9c1b-ef085c607b0c",
   "metadata": {},
   "outputs": [
    {
     "name": "stdout",
     "output_type": "stream",
     "text": [
      "Lowest Marks  78\n"
     ]
    }
   ],
   "source": [
    "print('Lowest Marks ',np.min(marks))"
   ]
  },
  {
   "cell_type": "code",
   "execution_count": 7,
   "id": "b9094cd2-a22f-4070-a651-0147b6410ff3",
   "metadata": {},
   "outputs": [
    {
     "name": "stdout",
     "output_type": "stream",
     "text": [
      "Average Marks  86.25\n"
     ]
    }
   ],
   "source": [
    "print('Average Marks ',np.mean(marks))"
   ]
  },
  {
   "cell_type": "markdown",
   "id": "4b81b323-c1f2-4e58-a474-682da77f1c0f",
   "metadata": {},
   "source": [
    "# .loc: Label Based\n",
    "# .iloc: index Based"
   ]
  },
  {
   "cell_type": "code",
   "execution_count": 8,
   "id": "77dea531-1e63-4c9e-bb9e-93d87cfa03fb",
   "metadata": {},
   "outputs": [
    {
     "name": "stdout",
     "output_type": "stream",
     "text": [
      "original dataframe\n",
      "    Name  Age  Marks\n",
      "0   John   20     85\n",
      "1  Alice   22     90\n",
      "2    Bob   21     78\n",
      "3   Sara   23     92\n",
      "Location : Label Based\n",
      "Name     Bob\n",
      "Marks     78\n",
      "Name: 2, dtype: object\n"
     ]
    }
   ],
   "source": [
    "print('original dataframe')\n",
    "print(df)\n",
    "print('Location : Label Based')\n",
    "print(df.loc[2,['Name','Marks']])"
   ]
  },
  {
   "cell_type": "code",
   "execution_count": 9,
   "id": "86a49b87-6f75-4af5-9ac4-c8d696bcf7f1",
   "metadata": {},
   "outputs": [
    {
     "name": "stdout",
     "output_type": "stream",
     "text": [
      "original dataframe\n",
      "    Name  Age  Marks\n",
      "0   John   20     85\n",
      "1  Alice   22     90\n",
      "2    Bob   21     78\n",
      "3   Sara   23     92\n",
      "Location : index Based\n",
      "Age      21\n",
      "Marks    78\n",
      "Name: 2, dtype: object\n"
     ]
    }
   ],
   "source": [
    "print('original dataframe')\n",
    "print(df)\n",
    "print('Location : index Based')\n",
    "print(df.iloc[2,[1,2]])"
   ]
  },
  {
   "cell_type": "markdown",
   "id": "48958b7e-8476-4fe0-bbed-fae2f9c6da2a",
   "metadata": {},
   "source": [
    "# Axis in Numpy :\n",
    "# 1. Axis 0 : vertical direction: works column-wise\n",
    "# 2. Axis 1 : horizontal direction: works row-wise"
   ]
  },
  {
   "cell_type": "markdown",
   "id": "47b0a964-9d2f-417e-a61d-a3e954e3a131",
   "metadata": {},
   "source": [
    "# We have two students marks in 3 subjects\n",
    "\n",
    "# [[45,50,49],[30,45,49]]"
   ]
  },
  {
   "cell_type": "code",
   "execution_count": 10,
   "id": "e3cc071c-04fa-4a1c-a43e-24ba2f6c1cd8",
   "metadata": {},
   "outputs": [
    {
     "name": "stdout",
     "output_type": "stream",
     "text": [
      "[[ 5  2  9]\n",
      " [10 40 60]]\n"
     ]
    }
   ],
   "source": [
    "marks_arr=np.array([[5,2,9],[10,40,60]])\n",
    "print(marks_arr)"
   ]
  },
  {
   "cell_type": "code",
   "execution_count": 11,
   "id": "dd9bf633-3622-4bd7-9389-8e47233e119f",
   "metadata": {},
   "outputs": [
    {
     "name": "stdout",
     "output_type": "stream",
     "text": [
      "Sum down each column [15 42 69]\n"
     ]
    }
   ],
   "source": [
    "print('Sum down each column',np.sum(marks_arr,axis=0))"
   ]
  },
  {
   "cell_type": "code",
   "execution_count": 12,
   "id": "0650f3ef-ba0c-486d-bfe1-9b461ad75fd3",
   "metadata": {},
   "outputs": [
    {
     "name": "stdout",
     "output_type": "stream",
     "text": [
      "Sum down each row [ 16 110]\n"
     ]
    }
   ],
   "source": [
    "print('Sum down each row',np.sum(marks_arr,axis=1))"
   ]
  },
  {
   "cell_type": "code",
   "execution_count": 13,
   "id": "2c2e7fc5-7744-4981-b5af-610efbd6da47",
   "metadata": {},
   "outputs": [
    {
     "name": "stdout",
     "output_type": "stream",
     "text": [
      "Numpy Array of Marks\n",
      "[85 90 78 92]\n"
     ]
    }
   ],
   "source": [
    "print('Numpy Array of Marks')\n",
    "print(marks)"
   ]
  },
  {
   "cell_type": "code",
   "execution_count": 14,
   "id": "5ea1029e-1821-4b8f-9d51-063680696cd4",
   "metadata": {},
   "outputs": [
    {
     "name": "stdout",
     "output_type": "stream",
     "text": [
      "    Name  Age  Marks\n",
      "0   John   20     85\n",
      "1  Alice   22     90\n",
      "2    Bob   21     78\n",
      "3   Sara   23     92\n"
     ]
    }
   ],
   "source": [
    "print(df)"
   ]
  },
  {
   "cell_type": "markdown",
   "id": "54037b9c-0a30-431a-965e-b3ea60cfdcf6",
   "metadata": {},
   "source": [
    "# Find the Student Name who got highest marks"
   ]
  },
  {
   "cell_type": "code",
   "execution_count": 15,
   "id": "1c13f7fc-0f23-4f3a-946b-66c1ed80c9d4",
   "metadata": {},
   "outputs": [
    {
     "name": "stdout",
     "output_type": "stream",
     "text": [
      "Sara\n"
     ]
    }
   ],
   "source": [
    "topper=df.loc[df['Marks'].idxmax(),'Name']\n",
    "print(topper)"
   ]
  },
  {
   "cell_type": "code",
   "execution_count": 16,
   "id": "31881c89-51a0-4303-b88e-13fa1509f632",
   "metadata": {},
   "outputs": [
    {
     "name": "stdout",
     "output_type": "stream",
     "text": [
      "Bob\n"
     ]
    }
   ],
   "source": [
    "lastinclass=df.loc[df['Marks'].idxmin(),'Name']\n",
    "print(lastinclass)"
   ]
  },
  {
   "cell_type": "code",
   "execution_count": 17,
   "id": "8a937134-a4f2-4d29-80e5-f674379e2bc3",
   "metadata": {},
   "outputs": [
    {
     "name": "stdout",
     "output_type": "stream",
     "text": [
      "Next Example\n"
     ]
    }
   ],
   "source": [
    "print('Next Example')"
   ]
  },
  {
   "cell_type": "code",
   "execution_count": 18,
   "id": "bb1f0b64-828b-4a96-800e-efd6adea75b8",
   "metadata": {},
   "outputs": [
    {
     "name": "stdout",
     "output_type": "stream",
     "text": [
      "Topper of the Class is:  Sara\n"
     ]
    }
   ],
   "source": [
    "top_index = df['Marks'].idxmax()\n",
    "top_student=df.iloc[top_index,df.columns.get_loc('Name')]\n",
    "print('Topper of the Class is: ',top_student)"
   ]
  },
  {
   "cell_type": "code",
   "execution_count": null,
   "id": "afa3216a-f2a2-439d-aae5-0bfa64f4b8d2",
   "metadata": {},
   "outputs": [],
   "source": []
  }
 ],
 "metadata": {
  "kernelspec": {
   "display_name": "Python 3 (ipykernel)",
   "language": "python",
   "name": "python3"
  },
  "language_info": {
   "codemirror_mode": {
    "name": "ipython",
    "version": 3
   },
   "file_extension": ".py",
   "mimetype": "text/x-python",
   "name": "python",
   "nbconvert_exporter": "python",
   "pygments_lexer": "ipython3",
   "version": "3.13.5"
  }
 },
 "nbformat": 4,
 "nbformat_minor": 5
}
