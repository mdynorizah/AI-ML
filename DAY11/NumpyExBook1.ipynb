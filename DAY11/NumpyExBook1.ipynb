{
 "cells": [
  {
   "cell_type": "markdown",
   "id": "00a52d5e-9860-40db-92f2-70b8062d260b",
   "metadata": {},
   "source": [
    "# Numpy Introduction and usage\n",
    "# we will use numpy in this jupyter notebook\n",
    "# One Dimensional Array (1-D)"
   ]
  },
  {
   "cell_type": "code",
   "execution_count": 1,
   "id": "577055d4-1cba-4a01-8ec3-18179a33a1b0",
   "metadata": {},
   "outputs": [],
   "source": [
    "import numpy as np"
   ]
  },
  {
   "cell_type": "code",
   "execution_count": 2,
   "id": "f2676d20-4a68-4c4a-9528-27a1be67e2bc",
   "metadata": {},
   "outputs": [],
   "source": [
    "array1=np.array([10,20,30,40,50,80])"
   ]
  },
  {
   "cell_type": "code",
   "execution_count": 3,
   "id": "8494f7e9-ef88-4221-b8b2-6a1ab2ba9334",
   "metadata": {},
   "outputs": [
    {
     "name": "stdout",
     "output_type": "stream",
     "text": [
      "[10 20 30 40 50 80]\n"
     ]
    }
   ],
   "source": [
    "print(array1)"
   ]
  },
  {
   "cell_type": "markdown",
   "id": "c2d19130-85df-4525-a99c-e4d0d15bdf08",
   "metadata": {},
   "source": [
    "# Two Dimensional Array (2-D)"
   ]
  },
  {
   "cell_type": "code",
   "execution_count": 4,
   "id": "5bd00640-f35c-4fe1-b5d6-83b7db70bbb5",
   "metadata": {},
   "outputs": [],
   "source": [
    "array_two=np.array([[10,20,30],[40,50,70]])"
   ]
  },
  {
   "cell_type": "code",
   "execution_count": 5,
   "id": "ec86c8c0-0ec9-4033-9531-6980b50a1618",
   "metadata": {},
   "outputs": [
    {
     "name": "stdout",
     "output_type": "stream",
     "text": [
      "[[10 20 30]\n",
      " [40 50 70]]\n"
     ]
    }
   ],
   "source": [
    "print(array_two)"
   ]
  },
  {
   "cell_type": "markdown",
   "id": "c0ae7fa6-81f9-40bc-8624-1e3477971c95",
   "metadata": {},
   "source": [
    "# Three Dimensional Array ( 3-D Array)"
   ]
  },
  {
   "cell_type": "code",
   "execution_count": 6,
   "id": "ce4acb80-4443-48bc-8717-8f3e781ca0dc",
   "metadata": {},
   "outputs": [],
   "source": [
    "array_three=np.array([[[10,20,30],[40,50,70]],[[10,20,30],[40,50,70]]])"
   ]
  },
  {
   "cell_type": "code",
   "execution_count": 7,
   "id": "9d332e89-2f0c-43eb-9716-51472934c102",
   "metadata": {},
   "outputs": [
    {
     "name": "stdout",
     "output_type": "stream",
     "text": [
      "[[[10 20 30]\n",
      "  [40 50 70]]\n",
      "\n",
      " [[10 20 30]\n",
      "  [40 50 70]]]\n"
     ]
    }
   ],
   "source": [
    "print(array_three)"
   ]
  },
  {
   "cell_type": "markdown",
   "id": "76e8c8d8-4d4e-492c-b703-0dc6d7a4aed8",
   "metadata": {},
   "source": [
    "# Find out Dimension of NumPy array"
   ]
  },
  {
   "cell_type": "code",
   "execution_count": 8,
   "id": "98968ba3-779d-409d-9a81-39607936e975",
   "metadata": {},
   "outputs": [
    {
     "name": "stdout",
     "output_type": "stream",
     "text": [
      "First Array Dimension: \t 1\n"
     ]
    }
   ],
   "source": [
    "print('First Array Dimension: \\t', array1.ndim)"
   ]
  },
  {
   "cell_type": "code",
   "execution_count": 9,
   "id": "a576e913-a036-4a67-aa3c-e23b0b601cf1",
   "metadata": {},
   "outputs": [
    {
     "name": "stdout",
     "output_type": "stream",
     "text": [
      "Second Array Dimension: \t 2\n"
     ]
    }
   ],
   "source": [
    "print('Second Array Dimension: \\t', array_two.ndim)"
   ]
  },
  {
   "cell_type": "code",
   "execution_count": 10,
   "id": "6614afe8-d465-4648-acde-37600cc515ae",
   "metadata": {},
   "outputs": [
    {
     "name": "stdout",
     "output_type": "stream",
     "text": [
      "Third Array Dimension: \t 3\n"
     ]
    }
   ],
   "source": [
    "print('Third Array Dimension: \\t', array_three.ndim)"
   ]
  },
  {
   "cell_type": "markdown",
   "id": "d28b2192-728c-47f3-bb7a-2f31dbc0fdb9",
   "metadata": {},
   "source": [
    "# Write an array of 5 students marks using Numpy\n",
    "\n",
    "## Makrs are: 80,70,75,99,89"
   ]
  },
  {
   "cell_type": "code",
   "execution_count": 11,
   "id": "58464f0c-fa7e-4913-9f17-9cdb04b60694",
   "metadata": {},
   "outputs": [
    {
     "name": "stdout",
     "output_type": "stream",
     "text": [
      "Array of Marks:\n",
      "[80 70 75 99 89 90]\n"
     ]
    }
   ],
   "source": [
    "array_marks=np.array([80,70,75,99,89,90])\n",
    "print('Array of Marks:')\n",
    "print(array_marks)"
   ]
  },
  {
   "cell_type": "markdown",
   "id": "614c7544-58a2-448e-85c4-1a130a0e8f79",
   "metadata": {},
   "source": [
    "# Write an array: to take Marks of 5 students in 3 subjects using Numpy\n",
    "# Math, English, Chemistry\n",
    "# [[50,45,49],[40,42,45],[35,40,46],[39,40,45],[48,40,40]]"
   ]
  },
  {
   "cell_type": "code",
   "execution_count": 12,
   "id": "a3dacdfc-f03c-47d4-bce2-876ff539e950",
   "metadata": {},
   "outputs": [
    {
     "name": "stdout",
     "output_type": "stream",
     "text": [
      "2 D Array Example\n",
      "[[50 45 49]\n",
      " [40 42 45]\n",
      " [35 40 46]\n",
      " [39 40 45]\n",
      " [48 40 40]]\n"
     ]
    }
   ],
   "source": [
    "marks_subject=np.array([[50,45,49],[40,42,45],[35,40,46],[39,40,45],[48,40,40]])\n",
    "print('2 D Array Example')\n",
    "print(marks_subject)"
   ]
  },
  {
   "cell_type": "markdown",
   "id": "d6703a57-35ed-4464-bc85-8379df849f2c",
   "metadata": {},
   "source": [
    "# Write an array: to take Marks of 4 students in 3 subjects for two semester using Numpy\n",
    "    ## Students Name are: 'Amit','Sha','Xi','Arif'\n",
    "     ## Math, English, Chemistry\n",
    "     ## Two Semester : Sem1 , Sem2\n",
    "     ## 4*3*2\n",
    "     ## ([[[85, 88],[78, 82],[90, 95]] , [[76, 70],[40, 45],[90, 90]] ,[[80, 86],[78, 82],[90, 95]],[[85, 88],[78, 82],[70, 90]]])"
   ]
  },
  {
   "cell_type": "code",
   "execution_count": 13,
   "id": "b817fb56-a031-4a36-83b4-dce7d937e67f",
   "metadata": {},
   "outputs": [],
   "source": [
    "marks_subject_sem=np.array([\n",
    "    [[85, 88],[78, 82],[90, 95]] , \n",
    "    [[76, 70],[40, 45],[90, 90]],\n",
    "    [[80, 86],[78, 82],[90, 95]],\n",
    "    [[85, 88],[78, 82],[70, 90]]\n",
    "])"
   ]
  },
  {
   "cell_type": "code",
   "execution_count": 14,
   "id": "8fa8b3b5-f14e-453b-a092-c68c9c5c07f6",
   "metadata": {},
   "outputs": [
    {
     "name": "stdout",
     "output_type": "stream",
     "text": [
      "[[[85 88]\n",
      "  [78 82]\n",
      "  [90 95]]\n",
      "\n",
      " [[76 70]\n",
      "  [40 45]\n",
      "  [90 90]]\n",
      "\n",
      " [[80 86]\n",
      "  [78 82]\n",
      "  [90 95]]\n",
      "\n",
      " [[85 88]\n",
      "  [78 82]\n",
      "  [70 90]]]\n"
     ]
    }
   ],
   "source": [
    "print (marks_subject_sem)"
   ]
  },
  {
   "cell_type": "markdown",
   "id": "73c7e13c-27f6-4023-bc92-87c78db783a8",
   "metadata": {},
   "source": [
    "# Write an array: to take wheather of 2 cities in 3 days for three times in a day morning, noon ,evening\n",
    "    ## Cities Name are: Kuala Lumpur, Delhi\n",
    "    ## Saturday, Sunday, Monday\n",
    "    ## Three Time Slot : Morning, Noon, Evening\n",
    "    ## Kuala Lumpur :[[25,30,28],[24,28,25],[30,32,30]]\n",
    "    ## Delhi:[[30,35,30],[32,34,30],[28,31,30]]\n",
    "    ## [[[25,30,28],[24,28,25],[30,32,30]],[[30,35,30],[32,34,30],[28,31,30]]]"
   ]
  },
  {
   "cell_type": "markdown",
   "id": "9e3a5409-2fda-4dd1-bde8-76cafb19a684",
   "metadata": {},
   "source": [
    "# Create one 3 D Array for this using NumPy and print it"
   ]
  },
  {
   "cell_type": "code",
   "execution_count": 15,
   "id": "2cb39c9d-0030-4b8c-b636-3dd4a1d11e9c",
   "metadata": {},
   "outputs": [],
   "source": [
    "wheather_array=np.array([[[25,30,28],[24,28,25],[30,32,30]],[[30,35,30],[32,34,30],[28,31,30]]])"
   ]
  },
  {
   "cell_type": "code",
   "execution_count": 16,
   "id": "e16a6bf1-9e14-42b3-b9ac-322bb175a2b5",
   "metadata": {},
   "outputs": [
    {
     "name": "stdout",
     "output_type": "stream",
     "text": [
      "[[[25 30 28]\n",
      "  [24 28 25]\n",
      "  [30 32 30]]\n",
      "\n",
      " [[30 35 30]\n",
      "  [32 34 30]\n",
      "  [28 31 30]]]\n"
     ]
    }
   ],
   "source": [
    "print(wheather_array)"
   ]
  },
  {
   "cell_type": "markdown",
   "id": "93f7d017-92b1-4847-84b9-b1e0d0ad5046",
   "metadata": {},
   "source": [
    "# Basic Information\n",
    "    ## shape: rows and columns\n",
    "    ## Size : number of elements\n",
    "    ## Dimension: return dimension 1, 2, 3....\n",
    "    ## Data Type: return stored data values type"
   ]
  },
  {
   "cell_type": "code",
   "execution_count": 17,
   "id": "bd68c7e9-dc36-41d0-bd62-c06cb15af772",
   "metadata": {},
   "outputs": [
    {
     "name": "stdout",
     "output_type": "stream",
     "text": [
      "[10 20 30 40 50 80]\n"
     ]
    }
   ],
   "source": [
    "print(array1)"
   ]
  },
  {
   "cell_type": "code",
   "execution_count": 18,
   "id": "9c78de96-7f9f-4c4a-b6be-fec89a9fd9b5",
   "metadata": {},
   "outputs": [
    {
     "name": "stdout",
     "output_type": "stream",
     "text": [
      "Shape of array1 :  (6,)\n"
     ]
    }
   ],
   "source": [
    "print(\"Shape of array1 : \",array1.shape)"
   ]
  },
  {
   "cell_type": "code",
   "execution_count": 19,
   "id": "cc3a9b76-c342-4229-83d8-1d3d36bc3b78",
   "metadata": {},
   "outputs": [
    {
     "name": "stdout",
     "output_type": "stream",
     "text": [
      "Size of array1 :  6\n"
     ]
    }
   ],
   "source": [
    "print(\"Size of array1 : \",array1.size)"
   ]
  },
  {
   "cell_type": "code",
   "execution_count": 20,
   "id": "2a9544b7-dd33-469c-853e-eb9763f6830c",
   "metadata": {},
   "outputs": [
    {
     "name": "stdout",
     "output_type": "stream",
     "text": [
      "Dimension :  1\n"
     ]
    }
   ],
   "source": [
    "print ('Dimension : ',array1.ndim)"
   ]
  },
  {
   "cell_type": "code",
   "execution_count": 21,
   "id": "038250ad-c050-4d41-8edf-eb72991d8d10",
   "metadata": {},
   "outputs": [
    {
     "name": "stdout",
     "output_type": "stream",
     "text": [
      "Data Type :  int64\n"
     ]
    }
   ],
   "source": [
    "print ('Data Type : ',array1.dtype)"
   ]
  },
  {
   "cell_type": "code",
   "execution_count": 22,
   "id": "34e63d91-1aac-4fe2-a7b2-7b5ead36778b",
   "metadata": {},
   "outputs": [],
   "source": [
    "students=np.array(['Ali Munaf Bin Kabir','Shi','Xi','Meena','Ziva'])"
   ]
  },
  {
   "cell_type": "code",
   "execution_count": 23,
   "id": "b6ffcb1f-0e21-43fe-bd85-b07e299a0904",
   "metadata": {},
   "outputs": [
    {
     "name": "stdout",
     "output_type": "stream",
     "text": [
      "['Ali Munaf Bin Kabir' 'Shi' 'Xi' 'Meena' 'Ziva']\n"
     ]
    }
   ],
   "source": [
    "print(students)"
   ]
  },
  {
   "cell_type": "code",
   "execution_count": 24,
   "id": "6acc94c9-3eb0-4712-aea5-35bb92fe9d6c",
   "metadata": {},
   "outputs": [
    {
     "name": "stdout",
     "output_type": "stream",
     "text": [
      "Shape of Array :  (5,)\n"
     ]
    }
   ],
   "source": [
    "print(\"Shape of Array : \",students.shape)"
   ]
  },
  {
   "cell_type": "code",
   "execution_count": 25,
   "id": "c30e10f4-71d5-4376-8df3-7a0bd2be9afd",
   "metadata": {},
   "outputs": [
    {
     "name": "stdout",
     "output_type": "stream",
     "text": [
      "Number of students 5\n"
     ]
    }
   ],
   "source": [
    "print('Number of students',students.size)"
   ]
  },
  {
   "cell_type": "code",
   "execution_count": 26,
   "id": "3d51dd69-1c2a-44c1-8942-8b9b5859481e",
   "metadata": {},
   "outputs": [
    {
     "name": "stdout",
     "output_type": "stream",
     "text": [
      "Data Type:  <U19\n"
     ]
    }
   ],
   "source": [
    "print('Data Type: ',students.dtype)"
   ]
  },
  {
   "cell_type": "markdown",
   "id": "2b320f19-67c3-49ca-b7c1-873f8ad3bb6c",
   "metadata": {},
   "source": [
    "# Mathematical Operation"
   ]
  },
  {
   "cell_type": "code",
   "execution_count": 27,
   "id": "e2f96582-fd0b-4a7d-8f52-142c720d1ff7",
   "metadata": {},
   "outputs": [
    {
     "name": "stdout",
     "output_type": "stream",
     "text": [
      "[10 20 30 40 50 80]\n"
     ]
    }
   ],
   "source": [
    "print(array1)"
   ]
  },
  {
   "cell_type": "code",
   "execution_count": 28,
   "id": "3bd10292-9f7e-44a5-95f1-8b41c109c532",
   "metadata": {},
   "outputs": [],
   "source": [
    "total=np.sum(array1)"
   ]
  },
  {
   "cell_type": "code",
   "execution_count": 29,
   "id": "dc78fa69-c5d6-47e7-bae4-4788b57282d6",
   "metadata": {},
   "outputs": [
    {
     "name": "stdout",
     "output_type": "stream",
     "text": [
      "230\n"
     ]
    }
   ],
   "source": [
    "print(total)"
   ]
  },
  {
   "cell_type": "code",
   "execution_count": 30,
   "id": "cc9a2f1a-22da-4ce8-9085-34cec141716b",
   "metadata": {},
   "outputs": [
    {
     "name": "stdout",
     "output_type": "stream",
     "text": [
      "Mean:  38.333333333333336\n"
     ]
    }
   ],
   "source": [
    "print('Mean: ',np.mean(array1))"
   ]
  },
  {
   "cell_type": "code",
   "execution_count": 31,
   "id": "165ab272-6d4d-45a4-a346-1b4e35dd6cf9",
   "metadata": {},
   "outputs": [
    {
     "name": "stdout",
     "output_type": "stream",
     "text": [
      "Min:  10\n"
     ]
    }
   ],
   "source": [
    "print('Min: ',np.min(array1))"
   ]
  },
  {
   "cell_type": "code",
   "execution_count": 32,
   "id": "b5f9447d-2e33-4688-af39-a9d07006e236",
   "metadata": {},
   "outputs": [
    {
     "name": "stdout",
     "output_type": "stream",
     "text": [
      "Max:  10\n"
     ]
    }
   ],
   "source": [
    "print('Max: ',np.min(array1))"
   ]
  },
  {
   "cell_type": "code",
   "execution_count": 33,
   "id": "852c9ca7-c4f3-4db2-84eb-f5a0529e05de",
   "metadata": {},
   "outputs": [
    {
     "name": "stdout",
     "output_type": "stream",
     "text": [
      "Index of Min:  0\n"
     ]
    }
   ],
   "source": [
    "print('Index of Min: ',np.argmin(array1))"
   ]
  },
  {
   "cell_type": "code",
   "execution_count": 34,
   "id": "db94ccb6-505c-43da-9828-a1d7b3f44a85",
   "metadata": {},
   "outputs": [
    {
     "name": "stdout",
     "output_type": "stream",
     "text": [
      "Index of Max:  5\n"
     ]
    }
   ],
   "source": [
    "print('Index of Max: ',np.argmax(array1))"
   ]
  },
  {
   "cell_type": "code",
   "execution_count": 35,
   "id": "4f156690-2054-4443-9f32-6529061d0a6b",
   "metadata": {},
   "outputs": [],
   "source": [
    "our_arr=np.array([100,200,300,7000,400,500,300,1900,600])"
   ]
  },
  {
   "cell_type": "code",
   "execution_count": 36,
   "id": "eeeac8f6-02cd-44f5-b7bf-17fc5ebe2636",
   "metadata": {},
   "outputs": [
    {
     "name": "stdout",
     "output_type": "stream",
     "text": [
      "[ 100  200  300 7000  400  500  300 1900  600]\n"
     ]
    }
   ],
   "source": [
    "print(our_arr)"
   ]
  },
  {
   "cell_type": "markdown",
   "id": "6d02f121-81f7-4ee6-827f-81ae879f4782",
   "metadata": {},
   "source": [
    "# Searching and Sorting Example in 1 D Array"
   ]
  },
  {
   "cell_type": "code",
   "execution_count": 37,
   "id": "6d3f0b5d-05a5-4b4b-a332-913ed0f8e4fc",
   "metadata": {},
   "outputs": [
    {
     "name": "stdout",
     "output_type": "stream",
     "text": [
      "*** Sorted Array \n",
      "[ 100  200  300  300  400  500  600 1900 7000]\n"
     ]
    }
   ],
   "source": [
    "sorted_arr=np.sort(our_arr)\n",
    "print('*** Sorted Array ')\n",
    "print(sorted_arr)"
   ]
  },
  {
   "cell_type": "code",
   "execution_count": 38,
   "id": "e6375c01-0dd4-4139-a32a-b1c202bfc77c",
   "metadata": {},
   "outputs": [
    {
     "name": "stdout",
     "output_type": "stream",
     "text": [
      "Is there any item greater than 500 ?:  True\n"
     ]
    }
   ],
   "source": [
    "print('Is there any item greater than 500 ?: ',np.any(sorted_arr>500))"
   ]
  },
  {
   "cell_type": "code",
   "execution_count": 39,
   "id": "a7cfc6fd-99d3-4e4d-930c-774aa5f29e74",
   "metadata": {},
   "outputs": [
    {
     "name": "stdout",
     "output_type": "stream",
     "text": [
      "All greater than 500 ?:  False\n"
     ]
    }
   ],
   "source": [
    "print('All greater than 500 ?: ',np.all(sorted_arr>500))"
   ]
  },
  {
   "cell_type": "code",
   "execution_count": 40,
   "id": "b4661578-b13e-4632-a654-43b81a683fff",
   "metadata": {},
   "outputs": [
    {
     "name": "stdout",
     "output_type": "stream",
     "text": [
      "All greater than 99 ?:  True\n"
     ]
    }
   ],
   "source": [
    "print('All greater than 99 ?: ',np.all(sorted_arr>99))"
   ]
  },
  {
   "cell_type": "code",
   "execution_count": 41,
   "id": "054c46cb-3bae-4097-b6da-bc2f660c967d",
   "metadata": {},
   "outputs": [
    {
     "name": "stdout",
     "output_type": "stream",
     "text": [
      "Where values >500 (array([6, 7, 8]),)\n"
     ]
    }
   ],
   "source": [
    "print('Where values >500',np.where(sorted_arr>500))"
   ]
  },
  {
   "cell_type": "code",
   "execution_count": 42,
   "id": "a5b62fa4-d993-4620-b2ca-d6bb28d201fa",
   "metadata": {},
   "outputs": [
    {
     "name": "stdout",
     "output_type": "stream",
     "text": [
      "All Number greater than 500\n",
      "[6 7 8]\n"
     ]
    }
   ],
   "source": [
    "print('All Number greater than 500')\n",
    "for num in np.where(sorted_arr>500):\n",
    "    print (num)"
   ]
  },
  {
   "cell_type": "code",
   "execution_count": 43,
   "id": "26222e0f-f023-44d6-9fea-9ebe94ea7d36",
   "metadata": {},
   "outputs": [
    {
     "name": "stdout",
     "output_type": "stream",
     "text": [
      "[ 100  200  300 7000  400  500  300 1900  600]\n"
     ]
    }
   ],
   "source": [
    "print(our_arr)"
   ]
  },
  {
   "cell_type": "code",
   "execution_count": 44,
   "id": "0c8718bc-b5bb-4798-9407-301be98fda2f",
   "metadata": {},
   "outputs": [
    {
     "name": "stdout",
     "output_type": "stream",
     "text": [
      "100\n"
     ]
    }
   ],
   "source": [
    "print(np.min(our_arr))"
   ]
  },
  {
   "cell_type": "code",
   "execution_count": 45,
   "id": "6f5fba4b-7122-48f7-a471-f5adb66ff909",
   "metadata": {},
   "outputs": [
    {
     "name": "stdout",
     "output_type": "stream",
     "text": [
      "Index of Min:  0\n"
     ]
    }
   ],
   "source": [
    "print('Index of Min: ',np.argmin(our_arr))"
   ]
  },
  {
   "cell_type": "code",
   "execution_count": 46,
   "id": "4272d822-e09c-4814-8f47-52c43c3eab9b",
   "metadata": {},
   "outputs": [
    {
     "name": "stdout",
     "output_type": "stream",
     "text": [
      "Index of Max 8\n"
     ]
    }
   ],
   "source": [
    "print('Index of Max',np.argmax(sorted_arr))"
   ]
  },
  {
   "cell_type": "code",
   "execution_count": 47,
   "id": "d7c6a670-7b74-4a79-9b11-696b0b77147a",
   "metadata": {},
   "outputs": [
    {
     "name": "stdout",
     "output_type": "stream",
     "text": [
      "All Number greater than 500\n",
      "False\n",
      "False\n",
      "False\n",
      "False\n",
      "False\n",
      "False\n",
      "True\n",
      "True\n",
      "True\n"
     ]
    }
   ],
   "source": [
    "print('All Number greater than 500')\n",
    "for num in sorted_arr>500:\n",
    "    print (num)"
   ]
  },
  {
   "cell_type": "code",
   "execution_count": 48,
   "id": "58248b7a-44ba-4fcd-9178-ddcafd3a286c",
   "metadata": {},
   "outputs": [],
   "source": [
    "selected_values=sorted_arr[sorted_arr>500]"
   ]
  },
  {
   "cell_type": "code",
   "execution_count": 49,
   "id": "db0b2e45-ff8e-4f9b-b8bb-8b1e8b8ea4e9",
   "metadata": {},
   "outputs": [
    {
     "name": "stdout",
     "output_type": "stream",
     "text": [
      "[ 600 1900 7000]\n"
     ]
    }
   ],
   "source": [
    "print(selected_values)"
   ]
  },
  {
   "cell_type": "code",
   "execution_count": 50,
   "id": "303272a7-58a4-4c8a-b597-f10f8a3c38f7",
   "metadata": {},
   "outputs": [
    {
     "name": "stdout",
     "output_type": "stream",
     "text": [
      "600\n",
      "1900\n",
      "7000\n"
     ]
    }
   ],
   "source": [
    "for num in selected_values:\n",
    "    print (num)"
   ]
  },
  {
   "cell_type": "code",
   "execution_count": 51,
   "id": "e5f65af5-9367-478f-9868-46abd1281930",
   "metadata": {},
   "outputs": [
    {
     "name": "stdout",
     "output_type": "stream",
     "text": [
      "600\n",
      "1900\n",
      "7000\n"
     ]
    }
   ],
   "source": [
    "for num in sorted_arr[sorted_arr>500]:\n",
    "    print(num)"
   ]
  },
  {
   "cell_type": "code",
   "execution_count": 52,
   "id": "03019e45-952a-4405-8952-d3ff8b883a33",
   "metadata": {},
   "outputs": [
    {
     "name": "stdout",
     "output_type": "stream",
     "text": [
      "  [ 600 1900 7000]\n"
     ]
    }
   ],
   "source": [
    "print(' ',sorted_arr[sorted_arr>500])"
   ]
  },
  {
   "cell_type": "markdown",
   "id": "fe51d55b-5d39-47e7-b171-6756abde2961",
   "metadata": {},
   "source": [
    "# Slicing 1 D Array\n",
    "## 1. To take elements from starting index to end index\n",
    "## 2. e.g. [start:end]"
   ]
  },
  {
   "cell_type": "code",
   "execution_count": 53,
   "id": "282440af-88af-4a9a-9b71-8f81075b919a",
   "metadata": {},
   "outputs": [
    {
     "name": "stdout",
     "output_type": "stream",
     "text": [
      "[ 100  200  300  300  400  500  600 1900 7000]\n"
     ]
    }
   ],
   "source": [
    "print(sorted_arr)"
   ]
  },
  {
   "cell_type": "code",
   "execution_count": 54,
   "id": "151a61e8-39df-4a92-9571-aa4f8eee6783",
   "metadata": {},
   "outputs": [
    {
     "name": "stdout",
     "output_type": "stream",
     "text": [
      "[200 300]\n"
     ]
    }
   ],
   "source": [
    "slice_sorted_arr=sorted_arr[1:3]\n",
    "print(slice_sorted_arr)"
   ]
  },
  {
   "cell_type": "markdown",
   "id": "dfb7b9b1-ef32-4a09-9e86-31a90ecffd24",
   "metadata": {},
   "source": [
    "# starting from an index and going till last"
   ]
  },
  {
   "cell_type": "code",
   "execution_count": 55,
   "id": "cdc41519-19eb-449d-bf04-1b5e896864d9",
   "metadata": {},
   "outputs": [
    {
     "name": "stdout",
     "output_type": "stream",
     "text": [
      "[ 300  400  500  600 1900 7000]\n"
     ]
    }
   ],
   "source": [
    "print(sorted_arr[3:])"
   ]
  },
  {
   "cell_type": "code",
   "execution_count": 56,
   "id": "c01f7d91-acc7-444a-abe7-6e6b5af6ca24",
   "metadata": {},
   "outputs": [
    {
     "name": "stdout",
     "output_type": "stream",
     "text": [
      "[100 200 300 300]\n"
     ]
    }
   ],
   "source": [
    "print(sorted_arr[:4])"
   ]
  },
  {
   "cell_type": "code",
   "execution_count": 57,
   "id": "9fba9c78-2d17-405e-84d3-caea816194b8",
   "metadata": {},
   "outputs": [
    {
     "name": "stdout",
     "output_type": "stream",
     "text": [
      "[100 200 300 300 400]\n"
     ]
    }
   ],
   "source": [
    "print(sorted_arr[:5])"
   ]
  },
  {
   "cell_type": "markdown",
   "id": "102c1687-844e-42c9-8491-0bd030ca4b09",
   "metadata": {},
   "source": [
    "# Step\n",
    "    ## [start:end:step]\n",
    "    ## step: every step element"
   ]
  },
  {
   "cell_type": "code",
   "execution_count": 58,
   "id": "d40ab7e1-947e-410c-861d-0d616f57e54b",
   "metadata": {},
   "outputs": [
    {
     "name": "stdout",
     "output_type": "stream",
     "text": [
      "[200 300 500]\n"
     ]
    }
   ],
   "source": [
    "our_slice=sorted_arr[1:6:2]\n",
    "print(our_slice)"
   ]
  },
  {
   "cell_type": "code",
   "execution_count": 59,
   "id": "cd0c7e9c-2fb5-44bd-8395-7f106987a5e1",
   "metadata": {},
   "outputs": [
    {
     "name": "stdout",
     "output_type": "stream",
     "text": [
      "Original Array\n",
      "[ 100  200  300  300  400  500  600 1900 7000]\n",
      "Every Third Element\n",
      "[100 300 600]\n"
     ]
    }
   ],
   "source": [
    "print('Original Array')\n",
    "print(sorted_arr)\n",
    "print('Every Third Element')\n",
    "every_third_element=sorted_arr[::3]\n",
    "print(every_third_element)"
   ]
  },
  {
   "cell_type": "markdown",
   "id": "606e2a20-5c86-4135-8066-bc64a10f5ed3",
   "metadata": {},
   "source": [
    "# Slice Reverse"
   ]
  },
  {
   "cell_type": "code",
   "execution_count": 60,
   "id": "42eb06df-999c-4819-8965-76656bd08b06",
   "metadata": {},
   "outputs": [
    {
     "name": "stdout",
     "output_type": "stream",
     "text": [
      "Original Array\n",
      "[ 100  200  300  300  400  500  600 1900 7000]\n",
      "Revers Array: \n",
      "[7000 1900  600  500  400  300  300  200  100]\n"
     ]
    }
   ],
   "source": [
    "print('Original Array')\n",
    "print(sorted_arr)\n",
    "print('Revers Array: ')\n",
    "print(sorted_arr[::-1])"
   ]
  },
  {
   "cell_type": "code",
   "execution_count": 61,
   "id": "1054d196-4c7c-417d-8199-be4236880ca0",
   "metadata": {},
   "outputs": [
    {
     "name": "stdout",
     "output_type": "stream",
     "text": [
      "Last five elements\n",
      "[ 400  500  600 1900 7000]\n"
     ]
    }
   ],
   "source": [
    "print('Last five elements')\n",
    "print(sorted_arr[-5:])"
   ]
  },
  {
   "cell_type": "code",
   "execution_count": 62,
   "id": "3ce76f4e-316b-41df-a25b-be51fdcd08ef",
   "metadata": {},
   "outputs": [
    {
     "name": "stdout",
     "output_type": "stream",
     "text": [
      "Slicing Done\n"
     ]
    }
   ],
   "source": [
    "print('Slicing Done')"
   ]
  },
  {
   "cell_type": "code",
   "execution_count": null,
   "id": "f568e669-1134-4edf-81b4-9a4167ba47b9",
   "metadata": {},
   "outputs": [],
   "source": []
  }
 ],
 "metadata": {
  "kernelspec": {
   "display_name": "Python 3 (ipykernel)",
   "language": "python",
   "name": "python3"
  },
  "language_info": {
   "codemirror_mode": {
    "name": "ipython",
    "version": 3
   },
   "file_extension": ".py",
   "mimetype": "text/x-python",
   "name": "python",
   "nbconvert_exporter": "python",
   "pygments_lexer": "ipython3",
   "version": "3.13.5"
  }
 },
 "nbformat": 4,
 "nbformat_minor": 5
}
