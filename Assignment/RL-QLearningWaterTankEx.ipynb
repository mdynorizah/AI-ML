{
 "cells": [
  {
   "cell_type": "markdown",
   "id": "dd8bd450-2e17-4c99-b310-3ad7391a719c",
   "metadata": {},
   "source": [
    "# Exercise: Smart Traffic Light Controller Using Q-Learning\n",
    "## Objective: In this exercise, you'll design a Smart Traffic Light System that learns when to switch lights (Green/Red) based on real-time traffic conditions using Q-Learning. Your AI agent will balance reducing waiting time for vehicles, saving energy, and maintaining safety"
   ]
  },
  {
   "cell_type": "code",
   "execution_count": 83,
   "id": "30362a9b-6a1c-4ee0-b14c-0462657d8fc4",
   "metadata": {},
   "outputs": [],
   "source": [
    "import numpy as np\n",
    "import random"
   ]
  },
  {
   "cell_type": "code",
   "execution_count": 84,
   "id": "26b34035-51c0-4538-bf0c-c170ca1a1371",
   "metadata": {},
   "outputs": [
    {
     "name": "stdout",
     "output_type": "stream",
     "text": [
      "Traffic States:\n",
      "  0 = Empty road\n",
      "  1 = Light traffic\n",
      "  2 = Moderate traffic\n",
      "  3 = Heavy traffic\n",
      "  4 = Very heavy traffic\n",
      "\n",
      "Actions:\n",
      "  GREEN = Keep the light green (GO)\n",
      "  RED = Turn the light red (STOP)\n"
     ]
    }
   ],
   "source": [
    "states = [0, 1, 2, 3, 4]\n",
    "actions = ['GREEN', 'RED']\n",
    "print(\"Traffic States:\")\n",
    "for s in states:\n",
    "    if s == 0:\n",
    "        label = \"Empty road\"\n",
    "    elif s == 1:\n",
    "        label = \"Light traffic\"\n",
    "    elif s == 2:\n",
    "        label = \"Moderate traffic\"\n",
    "    elif s == 3:\n",
    "        label = \"Heavy traffic\"\n",
    "    elif s == 4:\n",
    "        label = \"Very heavy traffic\"\n",
    "    print(f\"  {s} = {label}\")\n",
    "print(\"\\nActions:\")\n",
    "for a in actions:\n",
    "    if a == 'GREEN':\n",
    "        meaning = \"Keep the light green (GO)\"\n",
    "    else:\n",
    "        meaning = \"Turn the light red (STOP)\"\n",
    "    print(f\"  {a} = {meaning}\")"
   ]
  },
  {
   "cell_type": "code",
   "execution_count": 85,
   "id": "8f87acc0-e482-408f-9ac9-543c0fc7957f",
   "metadata": {},
   "outputs": [
    {
     "name": "stdout",
     "output_type": "stream",
     "text": [
      "Q-table shape: (5, 2)\n",
      "Initial Q-table:\n",
      " [[0. 0.]\n",
      " [0. 0.]\n",
      " [0. 0.]\n",
      " [0. 0.]\n",
      " [0. 0.]]\n"
     ]
    }
   ],
   "source": [
    "Q = np.zeros((len(states), len(actions)))\n",
    "alpha = 0.1     # Learning rate\n",
    "gamma = 0.9     # Discount factor\n",
    "epsilon = 0.2   # Exploration rate\n",
    "episodes = 300  # Number of training episodes\n",
    "\n",
    "print('Q-table shape:', Q.shape)\n",
    "print('Initial Q-table:\\n', Q)"
   ]
  },
  {
   "cell_type": "code",
   "execution_count": 86,
   "id": "93be1209-4ece-49f2-9e64-a1d7398a361b",
   "metadata": {},
   "outputs": [],
   "source": [
    "def get_reward(traffic, action):\n",
    "    if traffic in [3, 4]:  # Heavy or very heavy\n",
    "        if action == 'GREEN':\n",
    "            return +10   # Good: clear congestion\n",
    "        else:\n",
    "            return -10   # Bad: jams  \n",
    "    elif traffic == 0:\n",
    "        if action == 'RED':\n",
    "            return +5    # Good\n",
    "        else:\n",
    "            return -5    # Bad\n",
    "    elif traffic == 2:\n",
    "        return +1   \n",
    "    elif traffic == 1:\n",
    "        if action == 'RED':\n",
    "            return +2\n",
    "        else:\n",
    "            return 0     # Slightly less efficient\n",
    "\n",
    "    # Default (shouldn't happen)\n",
    "    return 0"
   ]
  },
  {
   "cell_type": "code",
   "execution_count": 87,
   "id": "03751349-2abf-4b8b-afd5-01f079c457a3",
   "metadata": {},
   "outputs": [
    {
     "name": "stdout",
     "output_type": "stream",
     "text": [
      "Traffic=3, Action=GREEN -> Reward=10\n",
      "Traffic=3, Action=RED -> Reward=-10\n",
      "Traffic=0, Action=RED -> Reward=5\n",
      "Traffic=0, Action=GREEN -> Reward=-5\n",
      "Traffic=2, Action=GREEN -> Reward=1\n",
      "Traffic=1, Action=RED -> Reward=2\n"
     ]
    }
   ],
   "source": [
    "test_cases = [\n",
    "    (3, 'GREEN'),  # Heavy + Green\n",
    "    (3, 'RED'),    # Heavy + Red\n",
    "    (0, 'RED'),    # Empty + Red\n",
    "    (0, 'GREEN'),  # Empty + Green\n",
    "    (2, 'GREEN'),  # Moderate + Green\n",
    "    (1, 'RED')     # Light + Red\n",
    "]\n",
    "\n",
    "for traffic, action in test_cases:\n",
    "    print(f\"Traffic={traffic}, Action={action} -> Reward={get_reward(traffic, action)}\")"
   ]
  },
  {
   "cell_type": "code",
   "execution_count": 88,
   "id": "8913b100-1c9e-4c66-b419-44307bf41918",
   "metadata": {},
   "outputs": [
    {
     "name": "stdout",
     "output_type": "stream",
     "text": [
      "Initial traffic: 1\n",
      "Step 1: Traffic level = 0\n",
      "Step 2: Traffic level = 0\n",
      "Step 3: Traffic level = 0\n",
      "Step 4: Traffic level = 0\n",
      "Step 5: Traffic level = 0\n",
      "Step 6: Traffic level = 1\n",
      "Step 7: Traffic level = 2\n",
      "Step 8: Traffic level = 3\n",
      "Step 9: Traffic level = 3\n",
      "Step 10: Traffic level = 3\n"
     ]
    }
   ],
   "source": [
    "def next_traffic(current):\n",
    "    change = random.choice([-1, 0, 1])\n",
    "    next_level = np.clip(current + change, 0, 4)\n",
    "\n",
    "    return next_level\n",
    "    traffic = 2  # Start with moderate traffic\n",
    "print(\"Initial traffic:\", traffic)\n",
    "\n",
    "for step in range(10):\n",
    "    traffic = next_traffic(traffic)\n",
    "    print(f\"Step {step+1}: Traffic level = {traffic}\")"
   ]
  },
  {
   "cell_type": "code",
   "execution_count": 92,
   "id": "69ff7dcf-4c92-49f7-8a32-c072c4f8ac4a",
   "metadata": {},
   "outputs": [
    {
     "name": "stdout",
     "output_type": "stream",
     "text": [
      "\n",
      "Training completed successfully!\n",
      "Final Q-table:\n",
      "[[35.28334674 46.4332045 ]\n",
      " [43.83576733 47.01886871]\n",
      " [56.61168645 47.93528592]\n",
      " [74.98489807 54.53235793]\n",
      " [83.31181435 59.42253221]]\n"
     ]
    }
   ],
   "source": [
    "for episode in range(episodes):\n",
    "    # Start from a random traffic level\n",
    "    state = np.random.randint(0, 5)\n",
    "    \n",
    "    for step in range(40):  # Steps per episode\n",
    "        if random.uniform(0, 1) < epsilon:\n",
    "            action_idx = np.random.randint(0, len(actions))  # Explore\n",
    "        else:\n",
    "            action_idx = np.argmax(Q[state])  # Exploit best action\n",
    "        \n",
    "        action = actions[action_idx]\n",
    "        \n",
    "        next_state = next_traffic(state)\n",
    "        reward = get_reward(state, action)\n",
    "        \n",
    "        Q[state, action_idx] = Q[state, action_idx] + alpha * (\n",
    "            reward + gamma * np.max(Q[next_state]) - Q[state, action_idx]\n",
    "        )\n",
    "        \n",
    "        state = next_state\n",
    "\n",
    "print(\"\\nTraining completed successfully!\")\n",
    "print(\"Final Q-table:\")\n",
    "print(Q)"
   ]
  },
  {
   "cell_type": "code",
   "execution_count": 93,
   "id": "78666def-a185-4444-bbd6-c6af72043285",
   "metadata": {},
   "outputs": [
    {
     "name": "stdout",
     "output_type": "stream",
     "text": [
      "Warning: Invalid traffic index 70. Resetting to 0.\n",
      "Step 1: Traffic = Empty road  →  Action = RED\n",
      "Step 2: Traffic = Light traffic  →  Action = RED\n",
      "Step 3: Traffic = Light traffic  →  Action = RED\n",
      "Step 4: Traffic = Empty road  →  Action = RED\n",
      "Step 5: Traffic = Light traffic  →  Action = RED\n",
      "Step 6: Traffic = Light traffic  →  Action = RED\n",
      "Step 7: Traffic = Empty road  →  Action = RED\n",
      "Step 8: Traffic = Light traffic  →  Action = RED\n",
      "Step 9: Traffic = Empty road  →  Action = RED\n",
      "Step 10: Traffic = Light traffic  →  Action = RED\n"
     ]
    }
   ],
   "source": [
    "traffic = level\n",
    "for step in range(10):\n",
    "    # Ensure traffic index is valid\n",
    "    if traffic < 0 or traffic >= len(Q):\n",
    "        print(f\"Warning: Invalid traffic index {traffic}. Resetting to 0.\")\n",
    "        traffic = 0\n",
    "    \n",
    "    action_idx = np.argmax(Q[traffic])\n",
    "    action = actions[action_idx]\n",
    "    \n",
    "    print(f\"Step {step+1}: Traffic = {state_labels[traffic]}  →  Action = {action}\")\n",
    "    \n",
    "    # Simulate environment\n",
    "    traffic = next_traffic(traffic)\n",
    "    traffic = max(0, min(traffic, len(state_labels) - 1))"
   ]
  },
  {
   "cell_type": "code",
   "execution_count": null,
   "id": "0799d19c-e4fc-4407-bd5b-0fd93d3801e8",
   "metadata": {},
   "outputs": [],
   "source": []
  }
 ],
 "metadata": {
  "kernelspec": {
   "display_name": "Python 3 (ipykernel)",
   "language": "python",
   "name": "python3"
  },
  "language_info": {
   "codemirror_mode": {
    "name": "ipython",
    "version": 3
   },
   "file_extension": ".py",
   "mimetype": "text/x-python",
   "name": "python",
   "nbconvert_exporter": "python",
   "pygments_lexer": "ipython3",
   "version": "3.13.5"
  }
 },
 "nbformat": 4,
 "nbformat_minor": 5
}
