{
 "cells": [
  {
   "cell_type": "code",
   "execution_count": null,
   "id": "18d5e05e-e41a-42c0-80ba-78cd6360172f",
   "metadata": {
    "jupyter": {
     "source_hidden": true
    }
   },
   "outputs": [],
   "source": []
  },
  {
   "cell_type": "markdown",
   "id": "428256fa-0af6-42a7-a67a-9ffe56e87732",
   "metadata": {},
   "source": [
    "# First Note Book\n",
    "## Steps to Print a Single Line\n",
    "    We will create Code Cell\n",
    "    We sill write print command\n",
    "    We will run the cell"
   ]
  },
  {
   "cell_type": "code",
   "execution_count": 2,
   "id": "42c780e9-e323-4228-bc53-7012f5884ed2",
   "metadata": {},
   "outputs": [
    {
     "name": "stdout",
     "output_type": "stream",
     "text": [
      "Welcome to Python Note Book\n"
     ]
    }
   ],
   "source": [
    "print('Welcome to Python Note Book')"
   ]
  },
  {
   "cell_type": "markdown",
   "id": "a2f2f046-1f2e-40a8-8b09-00336d9355cf",
   "metadata": {},
   "source": [
    "## For loop example"
   ]
  },
  {
   "cell_type": "code",
   "execution_count": 9,
   "id": "5c17ccca-e599-4394-95ab-74c3533a8b29",
   "metadata": {},
   "outputs": [
    {
     "name": "stdout",
     "output_type": "stream",
     "text": [
      "1\t2\t3\t4\t5\t6\t7\t8\t9\t10\t11\t12\t13\t14\t15\t16\t17\t18\t19\t20\t21\t22\t23\t24\t25\t26\t27\t28\t29\t30\t31\t32\t33\t34\t35\t36\t37\t38\t39\t40\t41\t42\t43\t44\t45\t46\t47\t48\t49\t50\t51\t52\t53\t54\t55\t56\t57\t58\t59\t60\t61\t62\t63\t64\t65\t66\t67\t68\t69\t70\t71\t72\t73\t74\t75\t76\t77\t78\t79\t80\t81\t82\t83\t84\t85\t86\t87\t88\t89\t90\t91\t92\t93\t94\t95\t96\t97\t98\t99\t100\t"
     ]
    }
   ],
   "source": [
    "for num in range(1,101):\n",
    "    print(num,end=\"\\t\")"
   ]
  },
  {
   "cell_type": "code",
   "execution_count": 27,
   "id": "3ffdbd21-7f1f-43dd-a86e-43f7e4b94c07",
   "metadata": {},
   "outputs": [
    {
     "ename": "SyntaxError",
     "evalue": "unterminated string literal (detected at line 1) (3084183976.py, line 1)",
     "output_type": "error",
     "traceback": [
      "\u001b[0;36m  Cell \u001b[0;32mIn[27], line 1\u001b[0;36m\u001b[0m\n\u001b[0;31m    players=('MS.Dhoni','Moin Ali','Rashid Khan,'Sunil Naren')\u001b[0m\n\u001b[0m                                                            ^\u001b[0m\n\u001b[0;31mSyntaxError\u001b[0m\u001b[0;31m:\u001b[0m unterminated string literal (detected at line 1)\n"
     ]
    }
   ],
   "source": [
    "players=('MS.Dhoni','Moin Ali','Rashid Khan,'Sunil Naren')"
   ]
  },
  {
   "cell_type": "code",
   "execution_count": 28,
   "id": "cdd049a1-140d-4877-91e0-2ee2e64c6577",
   "metadata": {
    "scrolled": true
   },
   "outputs": [
    {
     "name": "stdout",
     "output_type": "stream",
     "text": [
      "MS.Dhoni\n",
      "Moin Ali\n",
      "Rashid Khan\n"
     ]
    }
   ],
   "source": [
    "for player in players:\n",
    "    print(player)"
   ]
  },
  {
   "cell_type": "code",
   "execution_count": null,
   "id": "b2f0d896-a114-451a-9428-efea650338cd",
   "metadata": {},
   "outputs": [],
   "source": []
  },
  {
   "cell_type": "code",
   "execution_count": null,
   "id": "27752512-f43e-4402-aba2-06fe94216494",
   "metadata": {},
   "outputs": [],
   "source": [
    "print('Welcome Again')"
   ]
  },
  {
   "cell_type": "code",
   "execution_count": null,
   "id": "5841722a-448c-4a70-874e-8bc199805c7d",
   "metadata": {},
   "outputs": [],
   "source": []
  }
 ],
 "metadata": {
  "kernelspec": {
   "display_name": "Python 3 (ipykernel)",
   "language": "python",
   "name": "python3"
  },
  "language_info": {
   "codemirror_mode": {
    "name": "ipython",
    "version": 3
   },
   "file_extension": ".py",
   "mimetype": "text/x-python",
   "name": "python",
   "nbconvert_exporter": "python",
   "pygments_lexer": "ipython3",
   "version": "3.13.5"
  }
 },
 "nbformat": 4,
 "nbformat_minor": 5
}
