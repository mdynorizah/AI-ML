{
 "cells": [
  {
   "cell_type": "code",
   "execution_count": null,
   "id": "a52ee091-9d0d-4212-8ee7-7a1e846d4d13",
   "metadata": {},
   "outputs": [],
   "source": []
  }
 ],
 "metadata": {
  "kernelspec": {
   "display_name": "",
   "name": ""
  },
  "language_info": {
   "name": ""
  }
 },
 "nbformat": 4,
 "nbformat_minor": 5
}
